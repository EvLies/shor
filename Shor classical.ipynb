{
 "cells": [
  {
   "cell_type": "code",
   "execution_count": 39,
   "metadata": {},
   "outputs": [],
   "source": [
    "N = 3*7                      # N is the number we want to factorize\n",
    "a = 11                       # a is randomly selected"
   ]
  },
  {
   "cell_type": "code",
   "execution_count": 40,
   "metadata": {},
   "outputs": [],
   "source": [
    "import math\n",
    "assert 1 == math.gcd(N, a)   # N and a have to be co-prime"
   ]
  },
  {
   "cell_type": "code",
   "execution_count": 41,
   "metadata": {},
   "outputs": [
    {
     "data": {
      "text/plain": [
       "Text(0, 0.5, '11^z (mod 21)')"
      ]
     },
     "execution_count": 41,
     "metadata": {},
     "output_type": "execute_result"
    },
    {
     "data": {
      "image/png": "[encoded data removed]",
      "text/plain": [
       "<Figure size 432x288 with 1 Axes>"
      ]
     },
     "metadata": {
      "needs_background": "light"
     },
     "output_type": "display_data"
    }
   ],
   "source": [
    "# Plot the multiplicative group of integers modulo N\n",
    "#\n",
    "# As the group is finite, a must have a finite order r, \n",
    "# which is the smallest positive integer such that\n",
    "# (a^r) = 1 mod N \n",
    "\n",
    "import matplotlib.pyplot as plotter\n",
    "\n",
    "z = list(range(N))\n",
    "y = [a**z0 % N for z0 in z]\n",
    "\n",
    "plotter.plot(z,y)\n",
    "plotter.xlabel('z')\n",
    "plotter.ylabel(f'{a}^z (mod {N})')"
   ]
  },
  {
   "cell_type": "code",
   "execution_count": 42,
   "metadata": {},
   "outputs": [
    {
     "name": "stdout",
     "output_type": "stream",
     "text": [
      "r = 6\n"
     ]
    }
   ],
   "source": [
    "# Find the period r\n",
    "\n",
    "r = z[y[1:].index(1)+1]\n",
    "print(f'r = {r}')"
   ]
  },
  {
   "cell_type": "code",
   "execution_count": 38,
   "metadata": {},
   "outputs": [
    {
     "name": "stdout",
     "output_type": "stream",
     "text": [
      "x = 8.0\n",
      "3 7\n"
     ]
    }
   ],
   "source": [
    "# Determine the prime factors\n",
    "\n",
    "if r % 2 == 0:\n",
    "    x = (a**(r/2.)) % N\n",
    "    print(f'x = {x}')\n",
    "    if ((x + 1) % N) != 0:\n",
    "        print(math.gcd((int(x) + 1), N) , math.gcd((int(x) - 1), N))\n",
    "    else:\n",
    "        print(\"x + 1 is 0 (mod N)\")\n",
    "else:\n",
    "    print(f'r = {r} is odd')"
   ]
  },
  {
   "cell_type": "code",
   "execution_count": null,
   "metadata": {},
   "outputs": [],
   "source": []
  }
 ],
 "metadata": {
  "kernelspec": {
   "display_name": "Python 3",
   "language": "python",
   "name": "python3"
  },
  "language_info": {
   "codemirror_mode": {
    "name": "ipython",
    "version": 3
   },
   "file_extension": ".py",
   "mimetype": "text/x-python",
   "name": "python",
   "nbconvert_exporter": "python",
   "pygments_lexer": "ipython3",
   "version": "3.7.6"
  }
 },
 "nbformat": 4,
 "nbformat_minor": 4
}
